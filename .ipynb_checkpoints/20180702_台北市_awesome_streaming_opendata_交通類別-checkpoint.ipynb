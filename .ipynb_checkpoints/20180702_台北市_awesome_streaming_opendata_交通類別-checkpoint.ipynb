{
 "cells": [
  {
   "cell_type": "code",
   "execution_count": 1,
   "metadata": {},
   "outputs": [],
   "source": [
    "import pandas as pd\n",
    "import json \n",
    "import requests\n",
    "import gzip\n",
    "import requests\n",
    "from datetime import datetime "
   ]
  },
  {
   "cell_type": "markdown",
   "metadata": {},
   "source": [
    "# 臺北市停車場資訊"
   ]
  },
  {
   "cell_type": "code",
   "execution_count": 3,
   "metadata": {},
   "outputs": [],
   "source": [
    "# url = 'http://data.taipei/tcmsv/alldesc'\n",
    "url = 'http://data.taipei/tcmsv/allavailable'\n",
    "req = requests.get(url,'rb')\n",
    "create_time = datetime.strftime(datetime.now(), '%Y-%m-%d-%H-%M')\n",
    "# json.loads(res.text.decode('big5'))\n",
    "with open('/tmp/臺北市停車場資訊_{}.gz'.format(create_time), 'wb') as fd:\n",
    "    for chunk in req.iter_content(1024):\n",
    "        fd.write(chunk)"
   ]
  },
  {
   "cell_type": "code",
   "execution_count": null,
   "metadata": {},
   "outputs": [],
   "source": []
  }
 ],
 "metadata": {
  "kernelspec": {
   "display_name": "Python 3",
   "language": "python",
   "name": "python3"
  },
  "language_info": {
   "codemirror_mode": {
    "name": "ipython",
    "version": 3
   },
   "file_extension": ".py",
   "mimetype": "text/x-python",
   "name": "python",
   "nbconvert_exporter": "python",
   "pygments_lexer": "ipython3",
   "version": "3.6.4"
  }
 },
 "nbformat": 4,
 "nbformat_minor": 2
}
